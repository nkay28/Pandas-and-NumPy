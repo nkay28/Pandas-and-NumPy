{
 "cells": [
  {
   "cell_type": "code",
   "execution_count": null,
   "metadata": {},
   "outputs": [],
   "source": []
  },
  {
   "cell_type": "code",
   "execution_count": 86,
   "metadata": {},
   "outputs": [],
   "source": [
    "\n",
    "## Pandas Series: \n"
   ]
  },
  {
   "cell_type": "code",
   "execution_count": 1,
   "metadata": {},
   "outputs": [],
   "source": [
    "#!pip install nbconvert"
   ]
  },
  {
   "cell_type": "code",
   "execution_count": 2,
   "metadata": {},
   "outputs": [],
   "source": [
    "\n",
    "import pandas as pd  \n",
    "import numpy as np\n"
   ]
  },
  {
   "cell_type": "code",
   "execution_count": null,
   "metadata": {},
   "outputs": [],
   "source": []
  },
  {
   "cell_type": "code",
   "execution_count": null,
   "metadata": {},
   "outputs": [],
   "source": []
  },
  {
   "cell_type": "code",
   "execution_count": 2,
   "metadata": {},
   "outputs": [
    {
     "name": "stdout",
     "output_type": "stream",
     "text": [
      "1.4.4\n"
     ]
    }
   ],
   "source": [
    "# Version check:\n",
    "\n",
    "print(pd.__version__)\n"
   ]
  },
  {
   "cell_type": "code",
   "execution_count": null,
   "metadata": {},
   "outputs": [],
   "source": []
  },
  {
   "cell_type": "code",
   "execution_count": 3,
   "metadata": {},
   "outputs": [
    {
     "data": {
      "text/plain": [
       "<IntegerArray>\n",
       "[1, 2, 3, 4]\n",
       "Length: 4, dtype: Int64"
      ]
     },
     "execution_count": 3,
     "metadata": {},
     "output_type": "execute_result"
    }
   ],
   "source": [
    "# 1 D Array:\n",
    "pd.array([1,2,3,4])\n"
   ]
  },
  {
   "cell_type": "code",
   "execution_count": 6,
   "metadata": {},
   "outputs": [],
   "source": [
    "# Panda module Series:\n",
    "ss = pd.Series([1,5, 2,3,4])\n"
   ]
  },
  {
   "cell_type": "code",
   "execution_count": 18,
   "metadata": {},
   "outputs": [
    {
     "name": "stdout",
     "output_type": "stream",
     "text": [
      "[1, 5, 2, 3, 4]\n",
      "[1, 5, 2, 3, 4]\n"
     ]
    }
   ],
   "source": [
    "# convert a Panda module Series to Python list\n",
    "\n",
    "print(list(ss))\n",
    "print(ss.tolist())\n"
   ]
  },
  {
   "cell_type": "code",
   "execution_count": 19,
   "metadata": {},
   "outputs": [
    {
     "name": "stdout",
     "output_type": "stream",
     "text": [
      "0     3\n",
      "1     7\n",
      "2    11\n",
      "3    15\n",
      "4    19\n",
      "dtype: int64\n",
      "0     2\n",
      "1    12\n",
      "2    30\n",
      "3    56\n",
      "4    90\n",
      "dtype: int64\n",
      "0    2.000000\n",
      "1    1.333333\n",
      "2    1.200000\n",
      "3    1.142857\n",
      "4    1.111111\n",
      "dtype: float64\n"
     ]
    }
   ],
   "source": [
    "# add, subtract, multiple and divide two Pandas Series\n",
    "\n",
    "s1 = pd.Series([2, 4, 6, 8, 10])\n",
    "s2 = pd.Series([1, 3, 5, 7, 9])\n",
    "\n",
    "print(s1+s2)\n",
    "print(s1*s2)\n",
    "print(s1/s2)\n"
   ]
  },
  {
   "cell_type": "code",
   "execution_count": 22,
   "metadata": {},
   "outputs": [
    {
     "name": "stdout",
     "output_type": "stream",
     "text": [
      "0    False\n",
      "1    False\n",
      "2    False\n",
      "3    False\n",
      "4     True\n",
      "dtype: bool\n",
      "0     True\n",
      "1     True\n",
      "2     True\n",
      "3     True\n",
      "4    False\n",
      "dtype: bool\n",
      "0    False\n",
      "1    False\n",
      "2    False\n",
      "3    False\n",
      "4    False\n",
      "dtype: bool\n"
     ]
    }
   ],
   "source": [
    "# compare the elements of the two Pandas Series\n",
    "\n",
    "s1 = pd.Series([2, 4, 6, 8, 10])\n",
    "s2 = pd.Series([1, 3, 5, 7, 10])\n",
    "\n",
    "print(s1 == s2)\n",
    "print(s1 > s2)\n",
    "print(s1 < s2)\n",
    "\n"
   ]
  },
  {
   "cell_type": "code",
   "execution_count": 24,
   "metadata": {},
   "outputs": [
    {
     "name": "stdout",
     "output_type": "stream",
     "text": [
      "a    100\n",
      "b    200\n",
      "c    300\n",
      "d    400\n",
      "e    800\n",
      "dtype: int64\n"
     ]
    }
   ],
   "source": [
    "# convert a dictionary to a Pandas series\n",
    "\n",
    "dict_a = {'a': 100, 'b': 200, 'c': 300, 'd': 400, 'e': 800}\n",
    "\n",
    "print(pd.Series(dict_a))\n",
    "\n"
   ]
  },
  {
   "cell_type": "code",
   "execution_count": 27,
   "metadata": {},
   "outputs": [
    {
     "name": "stdout",
     "output_type": "stream",
     "text": [
      "[10 20 30 40 50]\n",
      "0    10\n",
      "1    20\n",
      "2    30\n",
      "3    40\n",
      "4    50\n",
      "dtype: int32\n"
     ]
    }
   ],
   "source": [
    "# convert a NumPy array to a Pandas series\n",
    "\n",
    "npa = np.array([10, 20, 30, 40, 50])\n",
    "print(npa)\n",
    "print(pd.Series(npa))\n"
   ]
  },
  {
   "cell_type": "code",
   "execution_count": 31,
   "metadata": {},
   "outputs": [
    {
     "name": "stdout",
     "output_type": "stream",
     "text": [
      "0       100\n",
      "1       200\n",
      "2    python\n",
      "3    300.12\n",
      "4       400\n",
      "dtype: object\n",
      "0    100.00\n",
      "1    200.00\n",
      "2       NaN\n",
      "3    300.12\n",
      "4    400.00\n",
      "dtype: float64\n"
     ]
    },
    {
     "data": {
      "text/plain": [
       "'\\nIf ‘raise’, then invalid parsing will raise an exception.\\nIf ‘coerce’, then invalid parsing will be set as NaN.\\nIf ‘ignore’, then invalid parsing will return the input.\\n'"
      ]
     },
     "execution_count": 31,
     "metadata": {},
     "output_type": "execute_result"
    }
   ],
   "source": [
    "#***\n",
    "#  change the data type of given a column or a Series\n",
    "\n",
    "pds1 = pd.Series([100, 200, 'python', 300.12, 400])\n",
    "print(pds1)\n",
    "print(pd.to_numeric(pds1, errors=\"coerce\"))\n",
    "\n",
    "\n",
    "#** errors=\n",
    "\"\"\"\n",
    "If ‘raise’, then invalid parsing will raise an exception.\n",
    "If ‘coerce’, then invalid parsing will be set as NaN.\n",
    "If ‘ignore’, then invalid parsing will return the input.\n",
    "\"\"\" \n"
   ]
  },
  {
   "cell_type": "code",
   "execution_count": 39,
   "metadata": {},
   "outputs": [
    {
     "name": "stdout",
     "output_type": "stream",
     "text": [
      "   col1  col2  col3\n",
      "0     1     4     7\n",
      "1     2     5     5\n",
      "2     3     6     8\n",
      "3     4     9    12\n",
      "4     7     5     1\n",
      "5    11     0    11\n",
      "0     1\n",
      "1     2\n",
      "2     3\n",
      "3     4\n",
      "4     7\n",
      "5    11\n",
      "Name: col1, dtype: int64\n"
     ]
    }
   ],
   "source": [
    "# convert the first column of a DataFrame as a Series\n",
    "\n",
    "df1 = pd.DataFrame({'col1': [1, 2, 3, 4, 7, 11], \n",
    "                    'col2': [4, 5, 6, 9, 5, 0], \n",
    "                    'col3': [7, 5, 8,12, 1, 11]\n",
    "                   })\n",
    "print(df1)\n",
    "\n",
    "pd_s1 = pd.Series(df1.col1)\n",
    "#* OR: \n",
    "# s1 = df.ix[:,0]     # label-location based indexer \n",
    "\n",
    "print(pd_s1)\n"
   ]
  },
  {
   "cell_type": "code",
   "execution_count": 47,
   "metadata": {},
   "outputs": [
    {
     "name": "stdout",
     "output_type": "stream",
     "text": [
      "0       100\n",
      "1       200\n",
      "2    python\n",
      "3    300.12\n",
      "4       400\n",
      "dtype: object\n",
      "[100, 200, 'python', 300.12, 400] <class 'list'>\n",
      "['100' '200' 'python' '300.12' '400']\n"
     ]
    }
   ],
   "source": [
    "#  convert a given Series to an array\n",
    "\n",
    "pds3 = pd.Series([100, 200, 'python', 300.12, 400])\n",
    "\n",
    "print(pds3)\n",
    "\n",
    "print(list(pds3), type(list(pds3)))\n",
    "\n",
    "#* To Numpy array:   \n",
    "a = np.array(pds3.values.tolist())    #* the output has all \"string\" items.  \n",
    "print(a) \n"
   ]
  },
  {
   "cell_type": "code",
   "execution_count": 57,
   "metadata": {},
   "outputs": [
    {
     "name": "stdout",
     "output_type": "stream",
     "text": [
      "0    [Red, Green, White]\n",
      "1           [Red, Black]\n",
      "2               [Yellow]\n",
      "dtype: object\n",
      "0       Red\n",
      "0     Green\n",
      "0     White\n",
      "1       Red\n",
      "1     Black\n",
      "2    Yellow\n",
      "dtype: object\n",
      "0       Red\n",
      "1     Green\n",
      "2     White\n",
      "3       Red\n",
      "4     Black\n",
      "5    Yellow\n",
      "dtype: object\n"
     ]
    }
   ],
   "source": [
    "#**\n",
    "# convert Series of lists to one Series\n",
    "\n",
    "pds4 = pd.Series([['Red', 'Green', 'White'], ['Red', 'Black'], ['Yellow']])\n",
    "\n",
    "print(pds4)\n",
    "\n",
    "print(pds4.explode())     #*  \".explode\"\n",
    "      \n",
    "# Reset the index: \n",
    "print(pds4.explode().reset_index(drop=True))\n"
   ]
  },
  {
   "cell_type": "code",
   "execution_count": 64,
   "metadata": {},
   "outputs": [
    {
     "name": "stdout",
     "output_type": "stream",
     "text": [
      "0       100\n",
      "1       200\n",
      "2    python\n",
      "3    300.12\n",
      "4       400\n",
      "dtype: object\n",
      "0       100\n",
      "1       200\n",
      "3    300.12\n",
      "4       400\n",
      "2    python\n",
      "dtype: object\n"
     ]
    }
   ],
   "source": [
    "# sort a given Series\n",
    "\n",
    "pds5 = pd.Series(['100', '200', 'python', '300.12', '400'])\n",
    "\n",
    "print(pds5)\n",
    "\n",
    "print(pds5.sort_values())   #** \n",
    "\n"
   ]
  },
  {
   "cell_type": "code",
   "execution_count": 67,
   "metadata": {},
   "outputs": [
    {
     "name": "stdout",
     "output_type": "stream",
     "text": [
      "0       100\n",
      "1       200\n",
      "2    python\n",
      "3    300.12\n",
      "4       400\n",
      "0       500\n",
      "1       php\n",
      "dtype: object\n"
     ]
    }
   ],
   "source": [
    "# add some data to an existing Series \n",
    "new_pds5 = pds5.append(pd.Series(['500', 'php']))\n",
    "\n",
    "print(new_pds5)\n"
   ]
  },
  {
   "cell_type": "code",
   "execution_count": 68,
   "metadata": {},
   "outputs": [
    {
     "name": "stdout",
     "output_type": "stream",
     "text": [
      "0      0\n",
      "1      1\n",
      "2      2\n",
      "3      3\n",
      "4      4\n",
      "5      5\n",
      "6      6\n",
      "7      7\n",
      "8      8\n",
      "9      9\n",
      "10    10\n",
      "dtype: int64\n",
      "0    0\n",
      "1    1\n",
      "2    2\n",
      "3    3\n",
      "4    4\n",
      "5    5\n",
      "dtype: int64\n"
     ]
    }
   ],
   "source": [
    "# create a subset of a given series based on value and condition\n",
    "\n",
    "s_6 = pd.Series([0, 1, 2, 3, 4, 5, 6, 7, 8, 9, 10])\n",
    "print(s_6)\n",
    "\n",
    "s_6_new = s_6[s_6<6]   #** \n",
    "print(s_6_new)\n",
    "\n"
   ]
  },
  {
   "cell_type": "code",
   "execution_count": 71,
   "metadata": {},
   "outputs": [
    {
     "name": "stdout",
     "output_type": "stream",
     "text": [
      "a    1\n",
      "b    2\n",
      "c    3\n",
      "d    4\n",
      "e    5\n",
      "dtype: int64\n",
      "b    2\n",
      "d    4\n",
      "a    1\n",
      "e    5\n",
      "c    3\n",
      "dtype: int64\n"
     ]
    }
   ],
   "source": [
    "#**\n",
    "# change the order of index of a given series\n",
    "s_7 = pd.Series(data=[1, 2, 3, 4, 5], index=['a','b','c','d','e'])\n",
    "print(s_7)\n",
    "\n",
    "# REINDEX: \n",
    "s_7_new = s_7.reindex(['b', 'd', 'a', 'e', 'c'])    #** Reindex \n",
    "print(s_7_new)\n"
   ]
  },
  {
   "cell_type": "code",
   "execution_count": 76,
   "metadata": {},
   "outputs": [
    {
     "name": "stdout",
     "output_type": "stream",
     "text": [
      "4.5\n",
      "2.8123105996832765\n"
     ]
    }
   ],
   "source": [
    "#  mean and standard deviation of the data of a given Series\n",
    "s_6 = pd.Series([0, 1, 2, 3, 4, 5, 6, 7, 8, 9, 6, 3])\n",
    "\n",
    "print(s_6.mean())\n",
    "print(s_6.std())\n"
   ]
  },
  {
   "cell_type": "code",
   "execution_count": 80,
   "metadata": {},
   "outputs": [
    {
     "name": "stdout",
     "output_type": "stream",
     "text": [
      "1    2\n",
      "3    4\n",
      "dtype: int64\n",
      "0    1\n",
      "2    3\n",
      "4    5\n",
      "dtype: int64\n"
     ]
    }
   ],
   "source": [
    "#* \n",
    "# get the items of a given series not present in another given series\n",
    "sr1 = pd.Series([1, 2, 3,4, 5])\n",
    "sr2 = pd.Series([2,4, 6, 8, 10])\n",
    "\n",
    "print(sr1[sr1.isin(sr2)])  #** \n",
    "print(sr1[~sr1.isin(sr2)])  #** \n"
   ]
  },
  {
   "cell_type": "code",
   "execution_count": 84,
   "metadata": {},
   "outputs": [
    {
     "name": "stdout",
     "output_type": "stream",
     "text": [
      "0     1\n",
      "1     2\n",
      "2     3\n",
      "3     4\n",
      "4     5\n",
      "5     6\n",
      "6     8\n",
      "7    10\n",
      "dtype: int64\n",
      "0    2\n",
      "1    4\n",
      "dtype: int64\n",
      "0     1\n",
      "2     3\n",
      "4     5\n",
      "5     6\n",
      "6     8\n",
      "7    10\n",
      "dtype: int64\n"
     ]
    }
   ],
   "source": [
    "#***\n",
    "# get the items which are not common of two given series:\n",
    "sr1 = pd.Series([1, 2, 3,4, 5])\n",
    "sr2 = pd.Series([2, 4, 6, 8, 10])\n",
    "\n",
    "# union:\n",
    "union2 = pd.Series(np.union1d(sr1, sr2))\n",
    "# intersection: \n",
    "interect2 = pd.Series(np.intersect1d(sr1, sr2))    \n",
    "print(union2)\n",
    "print(interect2)\n",
    "\n",
    "print(union2[~union2.isin(interect2)])\n"
   ]
  },
  {
   "cell_type": "code",
   "execution_count": 89,
   "metadata": {},
   "outputs": [
    {
     "name": "stdout",
     "output_type": "stream",
     "text": [
      "4.5\n",
      "0\n",
      "9\n",
      "[0.   2.75 6.25 9.  ]\n"
     ]
    }
   ],
   "source": [
    "# compute the minimum, 25th percentile, median, 75th, and maximum of a given serie \n",
    "s_6 = pd.Series([0, 1, 2, 3, 4, 5, 6, 7, 8, 9, 6, 3])\n",
    "\n",
    "print(s_6.median())\n",
    "print(s_6.min())\n",
    "print(s_6.max())\n",
    "\n",
    "# PERCENTILES:    \n",
    "res = np.percentile(s_6, q= [0, 25, 75, 100])\n",
    "print(res)\n",
    "\n"
   ]
  },
  {
   "cell_type": "code",
   "execution_count": 95,
   "metadata": {},
   "outputs": [
    {
     "name": "stdout",
     "output_type": "stream",
     "text": [
      "7    8\n",
      "2    5\n",
      "5    5\n",
      "6    5\n",
      "8    4\n",
      "9    3\n",
      "1    3\n",
      "4    3\n",
      "3    2\n",
      "0    2\n",
      "dtype: int64\n"
     ]
    }
   ],
   "source": [
    "# calculate the frequency counts of each unique value of a given series \n",
    "num_s = pd.Series(np.take(list('0123456789'), np.random.randint(10, size=40)))\n",
    "#print(num_s)\n",
    "\n",
    "print(num_s.value_counts())  #** \n",
    "\n"
   ]
  },
  {
   "cell_type": "code",
   "execution_count": 29,
   "metadata": {},
   "outputs": [
    {
     "name": "stdout",
     "output_type": "stream",
     "text": [
      "2    6\n",
      "3    5\n",
      "1    4\n",
      "dtype: int64 \t 4 \t Int64Index([2], dtype='int64')\n",
      "<class 'str'> other\n",
      "<class 'pandas.core.series.Series'> \n",
      " 0     other\n",
      "1     other\n",
      "2     other\n",
      "3     other\n",
      "4     other\n",
      "5     other\n",
      "6     other\n",
      "7     other\n",
      "8     other\n",
      "9     other\n",
      "10    other\n",
      "11    other\n",
      "12    other\n",
      "13    other\n",
      "14    other\n",
      "dtype: object\n"
     ]
    }
   ],
   "source": [
    "# display most frequent value in a given series and replace everything else as 'Other' in the series \n",
    "\n",
    "pds8 = pd.Series([3, 1, 1, 3, 2, 2, 1, 2, 3, 1, 2, 2, 2, 3, 3]) \n",
    "\n",
    "#**\n",
    "np.random.RandomState(100)\n",
    "num_series = pd.Series(np.random.randint(1, 5, [15]))\n",
    "\n",
    "print(pds8.value_counts(), \"\\t\", pds8.value_counts()[1], \"\\t\", pds8.value_counts().index[:1])\n",
    "#print(pds8)\n",
    "\n",
    "# res = pds8[~ pds8.isin([pds8.value_counts()[1]])] = \"other\"    # doesn't work\n",
    "res = pds8[~pds8.isin(pds8.value_counts().index[:1])] = \"other\"   #**\n",
    "\n",
    "print(type(res), res)\n",
    "print(type(pds8), \"\\n\", pds8)\n",
    "\n",
    "\n",
    "# result = num_series[~num_series.isin(num_series.value_counts().index[:1])] = 'Other'\n",
    "# print(num_series)\n"
   ]
  },
  {
   "cell_type": "code",
   "execution_count": 36,
   "metadata": {},
   "outputs": [
    {
     "name": "stdout",
     "output_type": "stream",
     "text": [
      "0     3\n",
      "1     2\n",
      "2    10\n",
      "3     3\n",
      "4     2\n",
      "5    14\n",
      "6    11\n",
      "7     4\n",
      "8     6\n",
      "9     7\n",
      "dtype: int32\n",
      "(array([2], dtype=int64),)\n"
     ]
    }
   ],
   "source": [
    "# find the positions of numbers that are multiples of 5 of a given series:\n",
    "\n",
    "pds9 = pd.Series(np.random.randint(2, 16, 10))\n",
    "\n",
    "print(pds9) \n",
    "\n",
    "# take modulo of each element:\n",
    "res = np.where(pds9 % 5 == 0)\n",
    "print(res)\n",
    "\n"
   ]
  },
  {
   "cell_type": "code",
   "execution_count": 4,
   "metadata": {},
   "outputs": [
    {
     "name": "stdout",
     "output_type": "stream",
     "text": [
      "0      8\n",
      "1      7\n",
      "2      1\n",
      "3     16\n",
      "4     17\n",
      "5      5\n",
      "6     11\n",
      "7     16\n",
      "8     14\n",
      "9      3\n",
      "10     6\n",
      "11     6\n",
      "12     8\n",
      "13     8\n",
      "14     9\n",
      "dtype: int32\n",
      "1      7\n",
      "5      5\n",
      "3     16\n",
      "6     11\n",
      "13     8\n",
      "dtype: int32\n"
     ]
    }
   ],
   "source": [
    "# extract items at given positions of a given series\n",
    "\n",
    "pds1 = pd.Series(np.random.randint(1, 18, 15))\n",
    "print(pds1)\n",
    "\n",
    "select_pos = [1, 5, 3, 6, 13]\n",
    "\n",
    "\n",
    "res = pds1.take(select_pos)    #** \n",
    "print(res)\n",
    "\n"
   ]
  },
  {
   "cell_type": "code",
   "execution_count": 50,
   "metadata": {},
   "outputs": [
    {
     "name": "stdout",
     "output_type": "stream",
     "text": [
      "0     1\n",
      "1     2\n",
      "2     3\n",
      "3     4\n",
      "4     5\n",
      "5     6\n",
      "6     7\n",
      "7     8\n",
      "8     9\n",
      "9    10\n",
      "dtype: int64\n",
      "[0, 2, 4, 6, 9]\n"
     ]
    }
   ],
   "source": [
    "#**\n",
    "# get the positions of items of a given series in another given series\n",
    "\n",
    "pds2 = pd.Series([1, 2, 3, 4, 5, 6, 7, 8, 9, 10])   # pd.Series(np.random.randint(1, 35, 25))\n",
    "print(pds2)\n",
    "pds2_3 = pd.Series([1, 3, 5, 7, 10])  # pd.Series(np.random.randint(1, 34, 6))\n",
    "pds2_3\n",
    "\n",
    "#* Immutable sequence used for indexing and alignment. The basic object storing axis labels for all pandas objects.\n",
    "res = [pd.Index(pds2).get_loc(elem) for elem in pds2_3]    #** \n",
    "print(res) \n",
    "\n"
   ]
  },
  {
   "cell_type": "code",
   "execution_count": 53,
   "metadata": {},
   "outputs": [
    {
     "name": "stdout",
     "output_type": "stream",
     "text": [
      "0       PhP\n",
      "1    PythoN\n",
      "2      JavA\n",
      "3        C#\n",
      "dtype: object\n"
     ]
    }
   ],
   "source": [
    "#**\n",
    "# convert the first and last character of each word to upper case in each word of a given series \n",
    "\n",
    "pds3 = pd.Series(['php', 'python', 'java', 'c#'])\n",
    "pds3\n",
    "\n",
    "#*Map values of Series according to an input mapping or function. \n",
    "res = pds3.map(lambda x:x[0].upper() + x[1:-1] + x[-1].upper())   #**\n",
    "print(res)\n",
    "\n",
    "\n"
   ]
  },
  {
   "cell_type": "code",
   "execution_count": 54,
   "metadata": {},
   "outputs": [
    {
     "name": "stdout",
     "output_type": "stream",
     "text": [
      "[3, 6, 4, 2]\n"
     ]
    }
   ],
   "source": [
    "# calculate the number of characters in each word in a given series \n",
    "\n",
    "# result = series1.map(lambda x: len(x))\n",
    "res = [len(item) for item in pds3]\n",
    "print(res)\n",
    "\n"
   ]
  },
  {
   "cell_type": "code",
   "execution_count": 63,
   "metadata": {},
   "outputs": [
    {
     "name": "stdout",
     "output_type": "stream",
     "text": [
      "0    18\n",
      "1    12\n",
      "2    13\n",
      "3     3\n",
      "4    13\n",
      "5     3\n",
      "6    17\n",
      "dtype: int32\n",
      "[6, -1, 10, -10, 10, -14]\n"
     ]
    },
    {
     "data": {
      "text/plain": [
       "0     NaN\n",
       "1     NaN\n",
       "2     7.0\n",
       "3   -11.0\n",
       "4    20.0\n",
       "5   -20.0\n",
       "6    24.0\n",
       "dtype: float64"
      ]
     },
     "execution_count": 63,
     "metadata": {},
     "output_type": "execute_result"
    }
   ],
   "source": [
    "#** \n",
    "# compute difference of differences between consecutive numbers of a given series\n",
    "\n",
    "pds4 = pd.Series(np.random.randint(2, 20, 7))\n",
    "print(pds4)\n",
    "\n",
    "res = [pds4[i] - pds4[i+1] for i in range(len(pds4)-1)]\n",
    "print(res)\n",
    "#** First discrete difference of element. Calculates the difference of a Series element compared with another element\n",
    "pds4.diff().diff()\n",
    "\n",
    "# Alternate: \n",
    "# print(series1.diff().diff().tolist())\n",
    "\n"
   ]
  },
  {
   "cell_type": "code",
   "execution_count": 7,
   "metadata": {},
   "outputs": [
    {
     "name": "stdout",
     "output_type": "stream",
     "text": [
      "0   2015-01-01 00:00:00\n",
      "1   2016-10-02 00:00:00\n",
      "2   2018-03-07 00:00:00\n",
      "3   2014-05-06 00:00:00\n",
      "4   2016-04-12 00:00:00\n",
      "5   2019-04-06 11:20:00\n",
      "dtype: datetime64[ns]\n"
     ]
    }
   ],
   "source": [
    "#**\n",
    "# convert a series of date strings to a timeseries\n",
    "\n",
    "pds4 = pd.Series(['01 Jan 2015', '10-02-2016', '20180307', '2014/05/06', '2016-04-12', '2019-04-06T11:20'])\n",
    "pds4\n",
    "\n",
    "res = pd.to_datetime(pds4)       #** datetime64[ns] \n",
    "print(res)\n",
    "\n"
   ]
  },
  {
   "cell_type": "code",
   "execution_count": 25,
   "metadata": {},
   "outputs": [
    {
     "name": "stdout",
     "output_type": "stream",
     "text": [
      "[1, 2, 7, 6, 12, 6]\n",
      "[1, 10, 3, 5, 4, 4]\n",
      "[1, 39, 10, 19, 15, 14]\n",
      "['Thursday', 'Sunday', 'Wednesday', 'Tuesday', 'Tuesday', 'Saturday']\n"
     ]
    }
   ],
   "source": [
    "#** \n",
    "# get the day of month, day of year, week number and day of week from a given series of date strings\n",
    "\n",
    "from dateutil.parser import parse\n",
    "\n",
    "pds5 = pd.Series(['01 Jan 2015', '10-02-2016', '20180307', '2014/05/06', '2016-04-12', '2019-04-06T11:20'])\n",
    "pds5\n",
    "\n",
    "#** both can work:\n",
    "pds5 = pds5.map(lambda x: parse(x))    # OR\n",
    "pds5 = pd.to_datetime(pds5) \n",
    "\n",
    "# Day of month:\n",
    "print(pds5.dt.day.to_list())\n",
    "\n",
    "# Day of year:\n",
    "print(pds5.dt.month.to_list())\n",
    "\n",
    "# Week number:\n",
    "# pds5.dt.week.to_list()\n",
    "print(pds5.dt.isocalendar().week.to_list())\n",
    "\n",
    "# Day of week:\n",
    "#print(pds5.dt.weekday.to_list())\n",
    "print(pds5.dt.day_name().to_list())\n",
    "\n"
   ]
  },
  {
   "cell_type": "code",
   "execution_count": 28,
   "metadata": {},
   "outputs": [
    {
     "name": "stdout",
     "output_type": "stream",
     "text": [
      "0   2015-01-10\n",
      "1   2016-02-10\n",
      "2   2017-03-10\n",
      "3   2018-04-10\n",
      "4   2019-05-10\n",
      "dtype: datetime64[ns]\n"
     ]
    }
   ],
   "source": [
    "# convert year-month string to dates adding a specified day of the month\n",
    "\n",
    "from dateutil.parser import parse\n",
    "\n",
    "pds6 = pd.Series(['Jan 2015', 'Feb 2016', 'Mar 2017', 'Apr 2018', 'May 2019'])\n",
    "pds6\n",
    "\n",
    "print(pds6.map(lambda date: parse('10 ' + date)))\n",
    "\n"
   ]
  },
  {
   "cell_type": "code",
   "execution_count": 30,
   "metadata": {},
   "outputs": [
    {
     "name": "stdout",
     "output_type": "stream",
     "text": [
      "2     Green\n",
      "3    Orange\n",
      "4    Yellow\n",
      "5     White\n",
      "dtype: object\n"
     ]
    }
   ],
   "source": [
    "#***\n",
    "# filter words from a given series that contain atleast two vowels \n",
    "\n",
    "from collections import Counter\n",
    "\n",
    "pds7 = pd.Series(['Red', 'Pink', 'Green', 'Orange', 'Yellow', 'White'])\n",
    "pds7\n",
    "\n",
    "# color_series.map(lambda c: sum([Counter(c.lower()).get(i, 0) for i in list('aeiou')]) >= 2)\n",
    "\n",
    "#* Series.str.count(pat, flags=0)  - Count occurrences of pattern in each string of the Series/Index.\n",
    "res = pds7[pds7.str.count('(!?)[aeiou]') >= 2]     #* REGEX\n",
    "\n",
    "print(res)\n",
    "\n",
    "\n",
    "#* REF: https://stackoverflow.com/questions/61593829/how-to-filter-words-that-contain-atleast-2-vowels-from-a-series \n",
    "\n"
   ]
  },
  {
   "cell_type": "code",
   "execution_count": 32,
   "metadata": {},
   "outputs": [
    {
     "name": "stdout",
     "output_type": "stream",
     "text": [
      "16.492422502470642\n"
     ]
    }
   ],
   "source": [
    "# compute the Euclidean distance between two given series:  \n",
    "\n",
    "pds8_1 = pd.Series([1, 2, 3, 4, 5, 6, 7, 8, 9, 10])\n",
    "pds8_2 = pd.Series([11, 8, 7, 5, 6, 5, 3, 4, 7, 1])\n",
    "\n",
    "# Euclidean distance\n",
    "\n",
    "# np.sqrt(np.sum([(a-b)*(a-b) for a, b in zip(x, y)])) \n",
    "res= np.linalg.norm(pds8_1 - pds8_2)\n",
    "\n",
    "print(res)\n",
    "\n"
   ]
  },
  {
   "cell_type": "code",
   "execution_count": 40,
   "metadata": {},
   "outputs": [
    {
     "name": "stdout",
     "output_type": "stream",
     "text": [
      "[ 7 -1 -2  1 -1 -2  1  3 -6  5  2  4  2]\n",
      "[ 1 -1 -1  1 -1 -1  1  1 -1  1  1  1  1]\n",
      "[-2  0  2 -2  0  2  0 -2  2  0  0  0]\n",
      "[1 4 8]\n"
     ]
    }
   ],
   "source": [
    "# find the positions of the values neighboured by smaller values on both sides in a given series \n",
    "\n",
    "pds9 = pd.Series([1, 8, 7, 5, 6, 5, 3, 4, 7, 1, 6, 8, 12, 14])\n",
    "pds9\n",
    "\n",
    "print(np.diff(pds9))\n",
    "print(np.sign(np.diff(pds9)))\n",
    "\n",
    "sign_diff = np.diff(np.sign(np.diff(pds9)))     #* '-2' here shows the hill here. \n",
    "print(sign_diff)   \n",
    "\n",
    "# get the index: (index of zero values and add 2 to move them to correct position.)\n",
    "minus_2_places = np.where(sign_diff == -2)[0]\n",
    "\n",
    "print(minus_2_places + 1)  #* 1, -1 adds up and the -2 sits at one index previous. \n",
    "\n",
    "\n",
    "\n",
    "# REF: https://stackoverflow.com/questions/58703688/given-a-list-how-to-find-values-which-are-surrounded-by-smaller-values-on-both \n",
    "\n"
   ]
  },
  {
   "cell_type": "code",
   "execution_count": 57,
   "metadata": {},
   "outputs": [
    {
     "name": "stdout",
     "output_type": "stream",
     "text": [
      "i\n",
      "abc def abcdef icd \n",
      " abcidefiabcdefiicd\n"
     ]
    }
   ],
   "source": [
    "# replace missing white spaces in a given string with the least frequent character\n",
    "\n",
    "# addit as a list string\n",
    "pds1 = pd.Series(list(\"abc def abcdef icd\"))   #** \n",
    "pds1\n",
    "\n",
    "# maybe drop the spaces before counting frequency....  \n",
    "least_freq = pds1.value_counts().index[-1]\n",
    "print(least_freq)\n",
    "\n",
    "res = pds1.replace(' ', least_freq)\n",
    "print(\"\".join(pds1), '\\n', \"\".join(res))\n",
    "\n"
   ]
  },
  {
   "cell_type": "code",
   "execution_count": 64,
   "metadata": {},
   "outputs": [
    {
     "name": "stdout",
     "output_type": "stream",
     "text": [
      "0.018670427888799086\n",
      "[1.0, 0.11, 0.02, -0.24, 0.16, 0.16, -0.24, -0.37, -0.52, 0.1, -0.04]\n"
     ]
    }
   ],
   "source": [
    "#*\n",
    "# compute the autocorrelations of a given numeric series \n",
    "\n",
    "pds2 = pd.Series(np.arange(15) + np.random.normal(1, 10, 15))\n",
    "pds2\n",
    "# random samples from a normal (Gaussian) distribution, with mean and std. given\n",
    "np.random.normal(1, 10, 15)\n",
    "\n",
    "# compute the lag-N autocorrelation - the Pearson correlation between the Series and its shifted self.  \n",
    "\n",
    "autocorrelations = pds2.autocorr(lag=2)\n",
    "print(autocorrelations)\n",
    "autocorrelations = [pds2.autocorr(i).round(2) for i in range(11)]  #* whats going on here? \n",
    "print(autocorrelations)\n",
    "\n"
   ]
  },
  {
   "cell_type": "code",
   "execution_count": 69,
   "metadata": {},
   "outputs": [
    {
     "name": "stdout",
     "output_type": "stream",
     "text": [
      "0    2020-01-05\n",
      "1    2020-01-12\n",
      "2    2020-01-19\n",
      "3    2020-01-26\n",
      "4    2020-02-02\n",
      "5    2020-02-09\n",
      "6    2020-02-16\n",
      "7    2020-02-23\n",
      "8    2020-03-01\n",
      "9    2020-03-08\n",
      "10   2020-03-15\n",
      "11   2020-03-22\n",
      "12   2020-03-29\n",
      "13   2020-04-05\n",
      "14   2020-04-12\n",
      "15   2020-04-19\n",
      "16   2020-04-26\n",
      "17   2020-05-03\n",
      "18   2020-05-10\n",
      "19   2020-05-17\n",
      "20   2020-05-24\n",
      "21   2020-05-31\n",
      "22   2020-06-07\n",
      "23   2020-06-14\n",
      "24   2020-06-21\n",
      "25   2020-06-28\n",
      "26   2020-07-05\n",
      "27   2020-07-12\n",
      "28   2020-07-19\n",
      "29   2020-07-26\n",
      "30   2020-08-02\n",
      "31   2020-08-09\n",
      "32   2020-08-16\n",
      "33   2020-08-23\n",
      "34   2020-08-30\n",
      "35   2020-09-06\n",
      "36   2020-09-13\n",
      "37   2020-09-20\n",
      "38   2020-09-27\n",
      "39   2020-10-04\n",
      "40   2020-10-11\n",
      "41   2020-10-18\n",
      "42   2020-10-25\n",
      "43   2020-11-01\n",
      "44   2020-11-08\n",
      "45   2020-11-15\n",
      "46   2020-11-22\n",
      "47   2020-11-29\n",
      "48   2020-12-06\n",
      "49   2020-12-13\n",
      "50   2020-12-20\n",
      "51   2020-12-27\n",
      "dtype: datetime64[ns]\n",
      "0    2020-01-01 00:00:00.000000000\n",
      "1    2020-01-08 03:45:52.941176470\n",
      "2    2020-01-15 07:31:45.882352941\n",
      "3    2020-01-22 11:17:38.823529412\n",
      "4    2020-01-29 15:03:31.764705882\n",
      "5    2020-02-05 18:49:24.705882353\n",
      "6    2020-02-12 22:35:17.647058824\n",
      "7    2020-02-20 02:21:10.588235294\n",
      "8    2020-02-27 06:07:03.529411765\n",
      "9    2020-03-05 09:52:56.470588236\n",
      "10   2020-03-12 13:38:49.411764706\n",
      "11   2020-03-19 17:24:42.352941177\n",
      "12   2020-03-26 21:10:35.294117648\n",
      "13   2020-04-03 00:56:28.235294118\n",
      "14   2020-04-10 04:42:21.176470589\n",
      "15   2020-04-17 08:28:14.117647060\n",
      "16   2020-04-24 12:14:07.058823530\n",
      "17   2020-05-01 16:00:00.000000000\n",
      "18   2020-05-08 19:45:52.941176472\n",
      "19   2020-05-15 23:31:45.882352942\n",
      "20   2020-05-23 03:17:38.823529412\n",
      "21   2020-05-30 07:03:31.764705884\n",
      "22   2020-06-06 10:49:24.705882354\n",
      "23   2020-06-13 14:35:17.647058824\n",
      "24   2020-06-20 18:21:10.588235296\n",
      "25   2020-06-27 22:07:03.529411766\n",
      "26   2020-07-05 01:52:56.470588236\n",
      "27   2020-07-12 05:38:49.411764706\n",
      "28   2020-07-19 09:24:42.352941178\n",
      "29   2020-07-26 13:10:35.294117648\n",
      "30   2020-08-02 16:56:28.235294120\n",
      "31   2020-08-09 20:42:21.176470588\n",
      "32   2020-08-17 00:28:14.117647060\n",
      "33   2020-08-24 04:14:07.058823532\n",
      "34   2020-08-31 08:00:00.000000000\n",
      "35   2020-09-07 11:45:52.941176472\n",
      "36   2020-09-14 15:31:45.882352944\n",
      "37   2020-09-21 19:17:38.823529412\n",
      "38   2020-09-28 23:03:31.764705884\n",
      "39   2020-10-06 02:49:24.705882356\n",
      "40   2020-10-13 06:35:17.647058824\n",
      "41   2020-10-20 10:21:10.588235296\n",
      "42   2020-10-27 14:07:03.529411768\n",
      "43   2020-11-03 17:52:56.470588236\n",
      "44   2020-11-10 21:38:49.411764708\n",
      "45   2020-11-18 01:24:42.352941180\n",
      "46   2020-11-25 05:10:35.294117648\n",
      "47   2020-12-02 08:56:28.235294120\n",
      "48   2020-12-09 12:42:21.176470592\n",
      "49   2020-12-16 16:28:14.117647060\n",
      "50   2020-12-23 20:14:07.058823532\n",
      "51   2020-12-31 00:00:00.000000000\n",
      "dtype: datetime64[ns]\n"
     ]
    }
   ],
   "source": [
    "#  create a TimeSeries to display all the Sundays of given year \n",
    "\n",
    "pds3 = pd.Series(pd.date_range(start='1/1/2020', periods=52, freq='W-SUN'))\n",
    "print(pds3)\n",
    "pds3 = pd.Series(pd.date_range(start='01/01/2020', end='31/12/2020', periods=52))\n",
    "print(pds3)\n",
    "\n"
   ]
  },
  {
   "cell_type": "code",
   "execution_count": 71,
   "metadata": {},
   "outputs": [
    {
     "name": "stdout",
     "output_type": "stream",
     "text": [
      "   index  0\n",
      "0      0  a\n",
      "1      1  b\n",
      "2      2  c\n",
      "3      3  d\n",
      "4      4  e\n"
     ]
    }
   ],
   "source": [
    "# convert given series into a dataframe with its index as another column on the dataframe.\n",
    "\n",
    "pds4 = pd.Series(['a', 'b', 'c', 'd', 'e'])\n",
    "pds4\n",
    "\n",
    "df1 = pds4.to_frame().reset_index()   #*\n",
    "print(df1) \n",
    "\n",
    "# REF: https://www.geeksforgeeks.org/convert-given-pandas-series-into-a-dataframe-with-its-index-as-another-column-on-the-dataframe/\n"
   ]
  },
  {
   "cell_type": "code",
   "execution_count": 75,
   "metadata": {
    "scrolled": true
   },
   "outputs": [
    {
     "name": "stdout",
     "output_type": "stream",
     "text": [
      "0    1\n",
      "1    2\n",
      "2    3\n",
      "3    4\n",
      "4    5\n",
      "5    6\n",
      "6    7\n",
      "7    8\n",
      "8    9\n",
      "9    0\n",
      "0    p\n",
      "1    q\n",
      "2    r\n",
      "3    s\n",
      "4    t\n",
      "5    u\n",
      "6    v\n",
      "7    w\n",
      "8    x\n",
      "9    y\n",
      "dtype: object\n",
      "   0  1\n",
      "0  1  p\n",
      "1  2  q\n",
      "2  3  r\n",
      "3  4  s\n",
      "4  5  t\n",
      "5  6  u\n",
      "6  7  v\n",
      "7  8  w\n",
      "8  9  x\n",
      "9  0  y\n"
     ]
    },
    {
     "name": "stderr",
     "output_type": "stream",
     "text": [
      "C:\\Users\\Nitin Kumar\\AppData\\Local\\Temp\\ipykernel_29676\\498835165.py:8: FutureWarning: The series.append method is deprecated and will be removed from pandas in a future version. Use pandas.concat instead.\n",
      "  vertical = pds5_1.append(pds5_2)\n"
     ]
    }
   ],
   "source": [
    "# stack two given series vertically and horizontally\n",
    "\n",
    "pds5_1 = pd.Series([1,2,3,4,5,6,7,8,9,0])\n",
    "pds5_1\n",
    "pds5_2 = pd.Series(['p', 'q', 'r', 's', 't', 'u', 'v', 'w', 'x', 'y'])\n",
    "pds5_2\n",
    "\n",
    "vertical = pds5_1.append(pds5_2)\n",
    "vertical = pd.concat([pds5_1, pds5_2])\n",
    "\n",
    "print(vertical)\n",
    "horizontal = pd.concat([pds5_1, pds5_2], axis=1)\n",
    "print(horizontal)\n",
    "\n"
   ]
  },
  {
   "cell_type": "code",
   "execution_count": 78,
   "metadata": {},
   "outputs": [
    {
     "name": "stdout",
     "output_type": "stream",
     "text": [
      "0     True\n",
      "1     True\n",
      "2     True\n",
      "3     True\n",
      "4    False\n",
      "5     True\n",
      "6     True\n",
      "7    False\n",
      "8     True\n",
      "9     True\n",
      "dtype: bool\n"
     ]
    }
   ],
   "source": [
    "# check the equality of two given series \n",
    "\n",
    "pds6_1 = pd.Series([1, 8, 7, 5, 6, 5, 3, 4, 7, 1])\n",
    "pds6_2 = pd.Series([1, 8, 7, 5, 2, 5, 3, 9, 7, 1])\n",
    "\n",
    "print(pds6_1 == pds6_2)\n",
    "\n"
   ]
  },
  {
   "cell_type": "code",
   "execution_count": 82,
   "metadata": {},
   "outputs": [
    {
     "name": "stdout",
     "output_type": "stream",
     "text": [
      "9\n",
      "4\n"
     ]
    }
   ],
   "source": [
    "# find the index of the first occurrence of the smallest and largest value of a given series \n",
    "\n",
    "pds7 = pd.Series([1, 3, 7, 12, 88, 23, 3, 1, 9, 0])\n",
    "\n",
    "print(pds7.idxmin())\n",
    "print(pds7.idxmax())\n"
   ]
  },
  {
   "cell_type": "code",
   "execution_count": 85,
   "metadata": {
    "scrolled": true
   },
   "outputs": [
    {
     "name": "stdout",
     "output_type": "stream",
     "text": [
      "      W     X   Y   Z\n",
      "0  68.0  78.0  84  86\n",
      "1  75.0  75.0  94  97\n",
      "2  86.0   NaN  89  96\n",
      "3  80.0  80.0  86  72\n",
      "4   NaN  86.0  86  83\n",
      "       W      X     Y     Z\n",
      "0  False   True  True  True\n",
      "1  False  False  True  True\n",
      "2  False   True  True  True\n",
      "3  False  False  True  True\n",
      "4   True   True  True  True\n"
     ]
    }
   ],
   "source": [
    "# check \"inequality\" over the index axis of a given dataframe and a given series\n",
    "\n",
    "df2 = pd.DataFrame({'W':[68,75,86,80,None],'X':[78,75,None,80,86], 'Y':[84,94,89,86,86],'Z':[86,97,96,72,83]});\n",
    "print(df2)\n",
    "pds8 = pd.Series([68, 75, 86, 80, None]) \n",
    "\n",
    "\n",
    "# When other is a Series, the columns of a DataFrame are aligned with the index of other and broadcast: \n",
    "\n",
    "\n",
    "print(df2.ne(pds8, axis=0))\n",
    "\n"
   ]
  },
  {
   "cell_type": "markdown",
   "metadata": {},
   "source": [
    "\n",
    "\n",
    "### REFERENCE: https://www.w3resource.com/python-exercises/pandas/index-data-series.php \n",
    "\n",
    "    "
   ]
  },
  {
   "cell_type": "code",
   "execution_count": null,
   "metadata": {},
   "outputs": [],
   "source": []
  },
  {
   "cell_type": "code",
   "execution_count": null,
   "metadata": {},
   "outputs": [],
   "source": []
  },
  {
   "cell_type": "code",
   "execution_count": null,
   "metadata": {},
   "outputs": [],
   "source": []
  },
  {
   "cell_type": "code",
   "execution_count": null,
   "metadata": {},
   "outputs": [],
   "source": []
  },
  {
   "cell_type": "code",
   "execution_count": null,
   "metadata": {},
   "outputs": [],
   "source": []
  },
  {
   "cell_type": "code",
   "execution_count": null,
   "metadata": {},
   "outputs": [],
   "source": []
  },
  {
   "cell_type": "code",
   "execution_count": null,
   "metadata": {},
   "outputs": [],
   "source": []
  },
  {
   "cell_type": "code",
   "execution_count": null,
   "metadata": {},
   "outputs": [],
   "source": []
  }
 ],
 "metadata": {
  "kernelspec": {
   "display_name": "Python 3 (ipykernel)",
   "language": "python",
   "name": "python3"
  },
  "language_info": {
   "codemirror_mode": {
    "name": "ipython",
    "version": 3
   },
   "file_extension": ".py",
   "mimetype": "text/x-python",
   "name": "python",
   "nbconvert_exporter": "python",
   "pygments_lexer": "ipython3",
   "version": "3.8.3"
  }
 },
 "nbformat": 4,
 "nbformat_minor": 4
}
